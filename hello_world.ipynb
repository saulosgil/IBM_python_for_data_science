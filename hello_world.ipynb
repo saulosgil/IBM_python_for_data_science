{
 "cells": [
  {
   "cell_type": "markdown",
   "id": "40c07bee",
   "metadata": {},
   "source": [
    "<h3>Hello World</h3>"
   ]
  },
  {
   "cell_type": "markdown",
   "id": "8d1c1c62",
   "metadata": {},
   "source": [
    "Let's say hello to the world with a PRINT statement"
   ]
  },
  {
   "cell_type": "code",
   "execution_count": 2,
   "id": "2e415b7d",
   "metadata": {},
   "outputs": [
    {
     "name": "stdout",
     "output_type": "stream",
     "text": [
      "Hello World\n"
     ]
    }
   ],
   "source": [
    "print(\"Hello World\")"
   ]
  },
  {
   "cell_type": "markdown",
   "id": "551416b1",
   "metadata": {},
   "source": [
    "<h3>Say \"Hello World\" on Two Lines</h3> "
   ]
  },
  {
   "cell_type": "markdown",
   "id": "b231d92c",
   "metadata": {},
   "source": [
    "Let's print \"Hello\" on two separate lines. *Hint: \\n in the middle of the string acts as a new line character.*"
   ]
  },
  {
   "cell_type": "code",
   "execution_count": 4,
   "id": "fbaf8b3a",
   "metadata": {},
   "outputs": [
    {
     "name": "stdout",
     "output_type": "stream",
     "text": [
      "Hello\n",
      "World\n"
     ]
    }
   ],
   "source": [
    "print(\"Hello\\nWorld\")"
   ]
  },
  {
   "cell_type": "markdown",
   "id": "3dfe317f",
   "metadata": {},
   "source": [
    "<h3>Comments Are Key to Good Coding</h3> \n"
   ]
  },
  {
   "cell_type": "code",
   "execution_count": 6,
   "id": "8c0134c9",
   "metadata": {},
   "outputs": [],
   "source": [
    "# this is a comment (no output is printed!)\n"
   ]
  },
  {
   "cell_type": "markdown",
   "id": "73a59f03",
   "metadata": {},
   "source": [
    "It is useful to indicate what code will be done"
   ]
  },
  {
   "cell_type": "code",
   "execution_count": 7,
   "id": "0a4eb287",
   "metadata": {},
   "outputs": [
    {
     "name": "stdout",
     "output_type": "stream",
     "text": [
      "Hello\n",
      "World\n"
     ]
    }
   ],
   "source": [
    "# This code print Hello World in separate lines\n",
    "print(\"Hello\\nWorld\")"
   ]
  },
  {
   "cell_type": "code",
   "execution_count": null,
   "id": "af9765d0",
   "metadata": {},
   "outputs": [],
   "source": []
  }
 ],
 "metadata": {
  "kernelspec": {
   "display_name": "Python 3 (ipykernel)",
   "language": "python",
   "name": "python3"
  },
  "language_info": {
   "codemirror_mode": {
    "name": "ipython",
    "version": 3
   },
   "file_extension": ".py",
   "mimetype": "text/x-python",
   "name": "python",
   "nbconvert_exporter": "python",
   "pygments_lexer": "ipython3",
   "version": "3.9.7"
  }
 },
 "nbformat": 4,
 "nbformat_minor": 5
}
