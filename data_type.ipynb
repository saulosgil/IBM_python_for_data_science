{
 "cells": [
  {
   "cell_type": "markdown",
   "id": "f27e6b72",
   "metadata": {},
   "source": [
    "<h3>Hello World</h3>"
   ]
  },
  {
   "cell_type": "markdown",
   "id": "5bb6692d",
   "metadata": {},
   "source": [
    "Find the type of the following using the <code>type</code> command:"
   ]
  },
  {
   "cell_type": "code",
   "execution_count": 2,
   "id": "65d2e531",
   "metadata": {},
   "outputs": [
    {
     "data": {
      "text/plain": [
       "'Hello World'"
      ]
     },
     "execution_count": 2,
     "metadata": {},
     "output_type": "execute_result"
    }
   ],
   "source": [
    "\"Hello World\""
   ]
  },
  {
   "cell_type": "markdown",
   "id": "cc96e88c",
   "metadata": {},
   "source": [
    "Answer:"
   ]
  },
  {
   "cell_type": "code",
   "execution_count": 3,
   "id": "6c6c0a74",
   "metadata": {},
   "outputs": [
    {
     "data": {
      "text/plain": [
       "str"
      ]
     },
     "execution_count": 3,
     "metadata": {},
     "output_type": "execute_result"
    }
   ],
   "source": [
    "# using function type to identify\n",
    "type(\"Hello World\")\n"
   ]
  },
  {
   "cell_type": "markdown",
   "id": "2fec17b5",
   "metadata": {},
   "source": [
    "<h3>Type Casting</h3>"
   ]
  },
  {
   "cell_type": "markdown",
   "id": "7d3932ec",
   "metadata": {},
   "source": [
    "Find the type of the following using the <code>type</code> command:"
   ]
  },
  {
   "cell_type": "code",
   "execution_count": null,
   "id": "039dff97",
   "metadata": {},
   "outputs": [],
   "source": [
    "\"1.1\""
   ]
  },
  {
   "cell_type": "code",
   "execution_count": 4,
   "id": "f36bf142",
   "metadata": {},
   "outputs": [
    {
     "data": {
      "text/plain": [
       "str"
      ]
     },
     "execution_count": 4,
     "metadata": {},
     "output_type": "execute_result"
    }
   ],
   "source": [
    "# using function type to identify\n",
    "type(\"1.1\")"
   ]
  },
  {
   "cell_type": "markdown",
   "id": "be780b5b",
   "metadata": {},
   "source": [
    "<h3>Is a Number Always a Number?\n",
    "</h3> "
   ]
  },
  {
   "cell_type": "markdown",
   "id": "55430e8b",
   "metadata": {},
   "source": [
    "Cast the following to an <code>int</code> and then to a <code>bool</code>:    "
   ]
  },
  {
   "cell_type": "code",
   "execution_count": 6,
   "id": "af371242",
   "metadata": {},
   "outputs": [
    {
     "data": {
      "text/plain": [
       "'1'"
      ]
     },
     "execution_count": 6,
     "metadata": {},
     "output_type": "execute_result"
    }
   ],
   "source": [
    "\"1\""
   ]
  },
  {
   "cell_type": "code",
   "execution_count": 8,
   "id": "00d67996",
   "metadata": {},
   "outputs": [
    {
     "data": {
      "text/plain": [
       "int"
      ]
     },
     "execution_count": 8,
     "metadata": {},
     "output_type": "execute_result"
    }
   ],
   "source": [
    "# using function type to cast to int\n",
    "type(int(\"1\"))"
   ]
  },
  {
   "cell_type": "code",
   "execution_count": 10,
   "id": "b2f54505",
   "metadata": {},
   "outputs": [
    {
     "data": {
      "text/plain": [
       "bool"
      ]
     },
     "execution_count": 10,
     "metadata": {},
     "output_type": "execute_result"
    }
   ],
   "source": [
    "# using function type to cast to boolean\n",
    "type(bool(\"1\"))"
   ]
  }
 ],
 "metadata": {
  "kernelspec": {
   "display_name": "Python 3 (ipykernel)",
   "language": "python",
   "name": "python3"
  },
  "language_info": {
   "codemirror_mode": {
    "name": "ipython",
    "version": 3
   },
   "file_extension": ".py",
   "mimetype": "text/x-python",
   "name": "python",
   "nbconvert_exporter": "python",
   "pygments_lexer": "ipython3",
   "version": "3.9.7"
  }
 },
 "nbformat": 4,
 "nbformat_minor": 5
}
