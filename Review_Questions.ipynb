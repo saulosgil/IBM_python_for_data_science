{
 "cells": [
  {
   "cell_type": "markdown",
   "id": "1b0f0900",
   "metadata": {},
   "source": [
    "# Review Questions"
   ]
  },
  {
   "cell_type": "markdown",
   "id": "2034451a",
   "metadata": {},
   "source": [
    "## Review Question 1"
   ]
  },
  {
   "cell_type": "markdown",
   "id": "eef7628c",
   "metadata": {},
   "source": [
    "What is the result of the following operation in Python:\n",
    "\n",
    "<code>3 + 2 * 2\n",
    "    \n",
    "- 10\n",
    "- 7\n",
    "- 9\n",
    "- 12\n",
    "  "
   ]
  },
  {
   "cell_type": "markdown",
   "id": "ab67b2e1",
   "metadata": {},
   "source": [
    "### Resposta"
   ]
  },
  {
   "cell_type": "code",
   "execution_count": 16,
   "id": "825c60d7",
   "metadata": {},
   "outputs": [
    {
     "data": {
      "text/plain": [
       "7"
      ]
     },
     "execution_count": 16,
     "metadata": {},
     "output_type": "execute_result"
    }
   ],
   "source": [
    "3 + 2 * 2"
   ]
  },
  {
   "cell_type": "markdown",
   "id": "68193340",
   "metadata": {},
   "source": [
    "## Review Question 2"
   ]
  },
  {
   "cell_type": "markdown",
   "id": "192f3bab",
   "metadata": {},
   "source": [
    "In Python, if you executed <code>name = 'Lizz'</code>, what would be the output of <code>print(name[0:2])</code>?\n",
    "\n",
    "- Lizz\n",
    "- L\n",
    "- Liz\n",
    "- Li"
   ]
  },
  {
   "cell_type": "markdown",
   "id": "afd8cb88",
   "metadata": {},
   "source": [
    "### Resposta"
   ]
  },
  {
   "cell_type": "code",
   "execution_count": 17,
   "id": "c630cba9",
   "metadata": {},
   "outputs": [
    {
     "name": "stdout",
     "output_type": "stream",
     "text": [
      "Li\n"
     ]
    }
   ],
   "source": [
    "name = 'Lizz'\n",
    "print(name[0:2])"
   ]
  },
  {
   "cell_type": "markdown",
   "id": "f14ae0cf",
   "metadata": {},
   "source": [
    "## Review Question 3\n"
   ]
  },
  {
   "cell_type": "markdown",
   "id": "776c5195",
   "metadata": {},
   "source": [
    "In Python, if you executed <code>var = '01234567'</code>, what would be the result of <code>print(var[::2])</code>?\n",
    "\n",
    "- 0246\n",
    "- 1357\n",
    "- 1234567\n",
    "- 8903"
   ]
  },
  {
   "cell_type": "markdown",
   "id": "c84ee6a3",
   "metadata": {},
   "source": [
    "### Resposta"
   ]
  },
  {
   "cell_type": "code",
   "execution_count": 18,
   "id": "26528d04",
   "metadata": {},
   "outputs": [
    {
     "name": "stdout",
     "output_type": "stream",
     "text": [
      "0246\n"
     ]
    }
   ],
   "source": [
    "var = '01234567'\n",
    "print(var[::2])"
   ]
  },
  {
   "cell_type": "markdown",
   "id": "ccf891c5",
   "metadata": {},
   "source": [
    "## Review Question 4\n"
   ]
  },
  {
   "cell_type": "markdown",
   "id": "946e588f",
   "metadata": {},
   "source": [
    "In Python, what is the result of the following operation <code>'1'+'2'</code>?\n",
    "\n",
    "- '2'\n",
    "- '3'\n",
    "- '12'\n",
    "- 3"
   ]
  },
  {
   "cell_type": "markdown",
   "id": "21809861",
   "metadata": {},
   "source": [
    "### Resposta"
   ]
  },
  {
   "cell_type": "code",
   "execution_count": 19,
   "id": "eaf8f874",
   "metadata": {},
   "outputs": [
    {
     "data": {
      "text/plain": [
       "'12'"
      ]
     },
     "execution_count": 19,
     "metadata": {},
     "output_type": "execute_result"
    }
   ],
   "source": [
    "'1' + '2'"
   ]
  },
  {
   "cell_type": "markdown",
   "id": "b6ec5dc4",
   "metadata": {},
   "source": [
    "### Review Question 5\n"
   ]
  },
  {
   "cell_type": "markdown",
   "id": "9626eff4",
   "metadata": {},
   "source": [
    "Given <code>myvar = 'hello'</code>, how would you convert myvar into uppercase?\n",
    "\n",
    "- <code>len(myvar)<code>\n",
    "- <code>myvar.find('hello')<code>\n",
    "- <code>myvar.upper()<code>\n",
    "- <code>myvar.sum()<code>"
   ]
  },
  {
   "cell_type": "markdown",
   "id": "d98470fb",
   "metadata": {},
   "source": [
    "### Resposta"
   ]
  },
  {
   "cell_type": "code",
   "execution_count": 20,
   "id": "bc2c9b2d",
   "metadata": {},
   "outputs": [
    {
     "data": {
      "text/plain": [
       "'HELLO'"
      ]
     },
     "execution_count": 20,
     "metadata": {},
     "output_type": "execute_result"
    }
   ],
   "source": [
    "myvar = 'hello'\n",
    "myvar.upper()"
   ]
  }
 ],
 "metadata": {
  "kernelspec": {
   "display_name": "Python 3 (ipykernel)",
   "language": "python",
   "name": "python3"
  },
  "language_info": {
   "codemirror_mode": {
    "name": "ipython",
    "version": 3
   },
   "file_extension": ".py",
   "mimetype": "text/x-python",
   "name": "python",
   "nbconvert_exporter": "python",
   "pygments_lexer": "ipython3",
   "version": "3.9.7"
  }
 },
 "nbformat": 4,
 "nbformat_minor": 5
}
